{
  "nbformat": 4,
  "nbformat_minor": 0,
  "metadata": {
    "colab": {
      "provenance": [],
      "authorship_tag": "ABX9TyM6QAzMoNoEhAzPdsjTINbX",
      "include_colab_link": true
    },
    "kernelspec": {
      "name": "python3",
      "display_name": "Python 3"
    },
    "language_info": {
      "name": "python"
    }
  },
  "cells": [
    {
      "cell_type": "markdown",
      "metadata": {
        "id": "view-in-github",
        "colab_type": "text"
      },
      "source": [
        "<a href=\"https://colab.research.google.com/github/samvillasmith/ML-for-NLP/blob/main/stemming.ipynb\" target=\"_parent\"><img src=\"https://colab.research.google.com/assets/colab-badge.svg\" alt=\"Open In Colab\"/></a>"
      ]
    },
    {
      "cell_type": "markdown",
      "source": [
        "# Stemming\n",
        "\n",
        "Stemming is the process of reducing a word to its stem that affixes or suffixes to the roots of words, the lemma."
      ],
      "metadata": {
        "id": "ikABAgiDqUx4"
      }
    },
    {
      "cell_type": "code",
      "execution_count": 1,
      "metadata": {
        "id": "ka8-vSe4qQWx"
      },
      "outputs": [],
      "source": [
        "# Classification Problem\n",
        "# Comments of the products whether they are positiv or negative\n",
        "# Review can be stemmed from eating, eaten, eat => eat"
      ]
    },
    {
      "cell_type": "code",
      "source": [
        "words = ['eating', 'eats', 'eat', 'ate', 'adjustable', 'rafting', 'ability', 'meeting', 'programming', 'program', 'writing', 'writes', 'writer']"
      ],
      "metadata": {
        "id": "Rzgx1QK1qrea"
      },
      "execution_count": 3,
      "outputs": []
    },
    {
      "cell_type": "code",
      "source": [
        "# PorterStemmer\n",
        "\n",
        "import nltk\n",
        "from nltk.stem import PorterStemmer\n",
        "stemmer = PorterStemmer()"
      ],
      "metadata": {
        "id": "IMvv-GqjrPMO"
      },
      "execution_count": 4,
      "outputs": []
    },
    {
      "cell_type": "code",
      "source": [
        "for word in words:\n",
        "  print(word + '==>' + stemmer.stem(word))"
      ],
      "metadata": {
        "colab": {
          "base_uri": "https://localhost:8080/"
        },
        "id": "1HDscYibriKl",
        "outputId": "d240e418-ba04-4ab2-ba72-216096e6d7b5"
      },
      "execution_count": 5,
      "outputs": [
        {
          "output_type": "stream",
          "name": "stdout",
          "text": [
            "eating==>eat\n",
            "eats==>eat\n",
            "eat==>eat\n",
            "ate==>ate\n",
            "adjustable==>adjust\n",
            "rafting==>raft\n",
            "ability==>abil\n",
            "meeting==>meet\n",
            "programming==>program\n",
            "program==>program\n",
            "writing==>write\n",
            "writes==>write\n",
            "writer==>writer\n"
          ]
        }
      ]
    },
    {
      "cell_type": "code",
      "source": [
        "stemmer.stem('congratulations')"
      ],
      "metadata": {
        "colab": {
          "base_uri": "https://localhost:8080/",
          "height": 35
        },
        "id": "110_UYHLsDah",
        "outputId": "aef7b020-56df-4dd0-f14d-fd66299ffd64"
      },
      "execution_count": 6,
      "outputs": [
        {
          "output_type": "execute_result",
          "data": {
            "text/plain": [
              "'congratul'"
            ],
            "application/vnd.google.colaboratory.intrinsic+json": {
              "type": "string"
            }
          },
          "metadata": {},
          "execution_count": 6
        }
      ]
    },
    {
      "cell_type": "code",
      "source": [
        "stemmer.stem('sitting')"
      ],
      "metadata": {
        "colab": {
          "base_uri": "https://localhost:8080/",
          "height": 35
        },
        "id": "RojMoAwYsYiF",
        "outputId": "fff524de-b569-480c-f3ed-4e52f374422d"
      },
      "execution_count": 7,
      "outputs": [
        {
          "output_type": "execute_result",
          "data": {
            "text/plain": [
              "'sit'"
            ],
            "application/vnd.google.colaboratory.intrinsic+json": {
              "type": "string"
            }
          },
          "metadata": {},
          "execution_count": 7
        }
      ]
    },
    {
      "cell_type": "code",
      "source": [
        "# RegexpStemmer can take a sinle regular expression and\n",
        "# remove prefixes and suffixes"
      ],
      "metadata": {
        "id": "fBdf4eddsc9U"
      },
      "execution_count": 8,
      "outputs": []
    },
    {
      "cell_type": "code",
      "source": [
        "from nltk.stem import RegexpStemmer\n",
        "regex_stemmer = RegexpStemmer('ing$|s$|e$|able$', min=4)"
      ],
      "metadata": {
        "id": "GBM0jIRpuvJm"
      },
      "execution_count": 11,
      "outputs": []
    },
    {
      "cell_type": "code",
      "source": [
        "regex_stemmer.stem('eating')"
      ],
      "metadata": {
        "colab": {
          "base_uri": "https://localhost:8080/",
          "height": 35
        },
        "id": "VxhUDByWvECk",
        "outputId": "178c14cb-8e2d-41db-fdbe-4e848794b489"
      },
      "execution_count": 12,
      "outputs": [
        {
          "output_type": "execute_result",
          "data": {
            "text/plain": [
              "'eat'"
            ],
            "application/vnd.google.colaboratory.intrinsic+json": {
              "type": "string"
            }
          },
          "metadata": {},
          "execution_count": 12
        }
      ]
    },
    {
      "cell_type": "code",
      "source": [
        "# Snowball Stemmer\n",
        "# Stemming technique that forms better than PorterStemmer,\n",
        "# generally higher accuracy"
      ],
      "metadata": {
        "id": "f2a5-HHuvlyH"
      },
      "execution_count": 14,
      "outputs": []
    },
    {
      "cell_type": "code",
      "source": [
        "from nltk.stem import SnowballStemmer\n",
        "snowball = SnowballStemmer(language='english')"
      ],
      "metadata": {
        "id": "3p-xyG61vLhP"
      },
      "execution_count": 15,
      "outputs": []
    },
    {
      "cell_type": "code",
      "source": [
        "for word in words:\n",
        "  print(word + \": \" + snowball.stem(word))"
      ],
      "metadata": {
        "colab": {
          "base_uri": "https://localhost:8080/"
        },
        "id": "XkPXFc7zv7PE",
        "outputId": "23dc8044-73b7-43a1-f3cf-355c0d3b635b"
      },
      "execution_count": 18,
      "outputs": [
        {
          "output_type": "stream",
          "name": "stdout",
          "text": [
            "eating: eat\n",
            "eats: eat\n",
            "eat: eat\n",
            "ate: ate\n",
            "adjustable: adjust\n",
            "rafting: raft\n",
            "ability: abil\n",
            "meeting: meet\n",
            "programming: program\n",
            "program: program\n",
            "writing: write\n",
            "writes: write\n",
            "writer: writer\n"
          ]
        }
      ]
    },
    {
      "cell_type": "code",
      "source": [
        "snowball.stem('fairly'), snowball.stem('sportingly')"
      ],
      "metadata": {
        "colab": {
          "base_uri": "https://localhost:8080/"
        },
        "id": "aW6f9SFzwFIF",
        "outputId": "044ad065-a1bf-49e1-80e5-049c52552a89"
      },
      "execution_count": 20,
      "outputs": [
        {
          "output_type": "execute_result",
          "data": {
            "text/plain": [
              "('fair', 'sport')"
            ]
          },
          "metadata": {},
          "execution_count": 20
        }
      ]
    },
    {
      "cell_type": "code",
      "source": [
        "snowball.stem('goes')"
      ],
      "metadata": {
        "colab": {
          "base_uri": "https://localhost:8080/",
          "height": 35
        },
        "id": "uOUMyUpTxZ3k",
        "outputId": "3f424e70-eba9-4df6-ec32-dc85bfa7cdb3"
      },
      "execution_count": 21,
      "outputs": [
        {
          "output_type": "execute_result",
          "data": {
            "text/plain": [
              "'goe'"
            ],
            "application/vnd.google.colaboratory.intrinsic+json": {
              "type": "string"
            }
          },
          "metadata": {},
          "execution_count": 21
        }
      ]
    },
    {
      "cell_type": "code",
      "source": [],
      "metadata": {
        "id": "VxN3s_2s2XpM"
      },
      "execution_count": null,
      "outputs": []
    }
  ]
}