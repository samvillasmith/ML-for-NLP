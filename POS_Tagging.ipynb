{
  "nbformat": 4,
  "nbformat_minor": 0,
  "metadata": {
    "colab": {
      "provenance": [],
      "authorship_tag": "ABX9TyNZAyrwLpM5fSO4Tgfyxm9f",
      "include_colab_link": true
    },
    "kernelspec": {
      "name": "python3",
      "display_name": "Python 3"
    },
    "language_info": {
      "name": "python"
    }
  },
  "cells": [
    {
      "cell_type": "markdown",
      "metadata": {
        "id": "view-in-github",
        "colab_type": "text"
      },
      "source": [
        "<a href=\"https://colab.research.google.com/github/samvillasmith/ML-for-NLP/blob/main/POS_Tagging.ipynb\" target=\"_parent\"><img src=\"https://colab.research.google.com/assets/colab-badge.svg\" alt=\"Open In Colab\"/></a>"
      ]
    },
    {
      "cell_type": "markdown",
      "metadata": {
        "id": "8e47bd53"
      },
      "source": [
        "# Parts of Speech Tagging\n",
        "\n",
        "Parts of speech (POS) tagging is the process of marking up a word in a text (corpus) as corresponding to a particular part of speech, based on both its definition and its context. This is a fundamental task in Natural Language Processing (NLP) and is used in various applications like information extraction, sentiment analysis, and machine translation."
      ]
    },
    {
      "cell_type": "markdown",
      "metadata": {
        "id": "a895291d"
      },
      "source": [
        "1. **CC**: Coordinating conjunction (e.g., `and`, `but`, `or`)\n",
        "2. **CD**: Cardinal number (e.g., `one`, `two`, `three`)\n",
        "3. **DT**: Determiner (e.g., `the`, `a`, `this`)\n",
        "4. **EX**: Existential `there` (e.g., `there` is)\n",
        "5. **FW**: Foreign word (e.g., `zeitgeist`)\n",
        "6. **IN**: Preposition or subordinating conjunction (e.g., `in`, `of`, `on`, `if`, `while`)\n",
        "7. **JJ**: Adjective (e.g., `big`, `red`, `happy`)\n",
        "8. **JJR**: Adjective, comparative (e.g., `bigger`, `redder`, `happier`)\n",
        "9. **JJS**: Adjective, superlative (e.g., `biggest`, `reddest`, `happiest`)\n",
        "10. **LS**: List item marker (e.g., `1)`, `a)`)\n",
        "11. **MD**: Modal (e.g., `can`, `will`, `may`)\n",
        "12. **NN**: Noun, singular or mass (e.g., `dog`, `cat`, `air`)\n",
        "13. **NNS**: Noun, plural (e.g., `dogs`, `cats`)\n",
        "14. **NNP**: Proper noun, singular (e.g., `John`, `London`)\n",
        "15. **NNPS**: Proper noun, plural (e.g., `Americans`, `Canadians`)\n",
        "16. **PDT**: Predeterminer (e.g., `all` the, `both` my)\n",
        "17. **POS**: Possessive ending (e.g., `dog's`)\n",
        "18. **PRP**: Personal pronoun (e.g., `I`, `he`, `she`)\n",
        "19. **PRP\\$**: Possessive pronoun (e.g., `my`, `his`, `her`)\n",
        "20. **RB**: Adverb (e.g., `quickly`, `happily`, `very`)\n",
        "21. **RBR**: Adverb, comparative (e.g., `quicker`, `happier`)\n",
        "22. **RBS**: Adverb, superlative (e.g., `quickest`, `happiest`)\n",
        "23. **RP**: Particle (e.g., `up`, `down`, `off`)\n",
        "24. **SYM**: Symbol (e.g., `$`, `%`, `#`)\n",
        "25. **TO**: `to` (e.g., `to` the store)\n",
        "26. **UH**: Interjection (e.g., `oh`, `wow`, `ouch`)\n",
        "27. **VB**: Verb, base form (e.g., `run`, `eat`, `sing`)\n",
        "28. **VBD**: Verb, past tense (e.g., `ran`, `ate`, `sang`)\n",
        "29. **VBG**: Verb, gerund or present participle (e.g., `running`, `eating`, `singing`)\n",
        "30. **VBN**: Verb, past participle (e.g., `run`, `eaten`, `sung`)\n",
        "31. **VBP**: Verb, non-3rd person singular present (e.g., `run`, `eat`, `sing`)\n",
        "32. **VBZ**: Verb, 3rd person singular present (e.g., `runs`, `eats`, `sings`)\n",
        "33. **WDT**: Wh-determiner (e.g., `which`, `what`)\n",
        "34. **WP**: Wh-pronoun (e.g., `who`, `whom`)\n",
        "35. **WP\\$**: Possessive wh-pronoun (e.g., `whose`)\n",
        "36. **WRB**: Wh-adverb (e.g., `where`, `when`, `why`)"
      ]
    },
    {
      "cell_type": "code",
      "execution_count": 1,
      "metadata": {
        "id": "V1emGxqTAOcA"
      },
      "outputs": [],
      "source": [
        "paragraph = '''\n",
        "  So, first of all, let me assert my firm belief that the only thing we have to fear is fear itself — nameless, unreasoning, unjustified terror which paralyzes needed efforts to convert retreat into advance. In every dark hour of our national life a leadership of frankness and of vigor has met with that understanding and support of the people themselves which is essential to victory. And I am convinced that you will again give that support to leadership in these critical days. More important, a host of unemployed citizens face the grim problem of existence, and an equally great number toil with little return. Only a foolish optimist can deny the dark realities of the moment. Our greatest primary task is to put people to work. This is no unsolvable problem if we face it wisely and courageously. There are many ways in which it can be helped, but it can never be helped merely by talking about it. We must act and act quickly.\n",
        "I am prepared under my constitutional duty to recommend the measures that a stricken Nation in the midst of a stricken world may require. These measures, or such other measures as the Congress may build out of its experience and wisdom, I shall seek, within my constitutional authority, to bring to speedy adoption. But in the event that the Congress shall fail to take one of these two courses, and in the event that the national emergency is still critical, I shall not evade the clear course of duty that will then confront me. I shall ask the Congress for the one remaining instrument to meet the crisis — broad Executive power to wage a war against the emergency, as great as the power that would be given to me if we were in fact invaded by a foreign foe.\n",
        "'''"
      ]
    },
    {
      "cell_type": "code",
      "source": [
        "import nltk\n",
        "from nltk.corpus import stopwords\n",
        "nltk.download('averaged_perceptron_tagger_eng')"
      ],
      "metadata": {
        "colab": {
          "base_uri": "https://localhost:8080/"
        },
        "id": "yWUz77tiB3nF",
        "outputId": "1c0e8da3-5fd2-4089-af77-b77ba738f0f1"
      },
      "execution_count": 19,
      "outputs": [
        {
          "output_type": "stream",
          "name": "stderr",
          "text": [
            "[nltk_data] Downloading package averaged_perceptron_tagger_eng to\n",
            "[nltk_data]     /root/nltk_data...\n",
            "[nltk_data]   Package averaged_perceptron_tagger_eng is already up-to-\n",
            "[nltk_data]       date!\n"
          ]
        },
        {
          "output_type": "execute_result",
          "data": {
            "text/plain": [
              "True"
            ]
          },
          "metadata": {},
          "execution_count": 19
        }
      ]
    },
    {
      "cell_type": "code",
      "source": [
        "sentences = nltk.sent_tokenize(paragraph)"
      ],
      "metadata": {
        "id": "Mcv60d-VB8hU"
      },
      "execution_count": 20,
      "outputs": []
    },
    {
      "cell_type": "code",
      "source": [
        "# Find the POS tags\n",
        "for i in range(len(sentences)):\n",
        "  words = nltk.word_tokenize(sentences[i])\n",
        "  words = [word for word in words if word not in set(stopwords.words('english'))]\n",
        "  pos_tag = nltk.pos_tag(words)\n",
        "  print(pos_tag)"
      ],
      "metadata": {
        "colab": {
          "base_uri": "https://localhost:8080/"
        },
        "id": "5JHdlgfcCAfE",
        "outputId": "7b7433dd-27e2-4adc-d906-665cf8b09c15"
      },
      "execution_count": 21,
      "outputs": [
        {
          "output_type": "stream",
          "name": "stdout",
          "text": [
            "[('So', 'RB'), (',', ','), ('first', 'RB'), (',', ','), ('let', 'VB'), ('assert', 'JJ'), ('firm', 'JJ'), ('belief', 'NN'), ('thing', 'NN'), ('fear', 'NN'), ('fear', 'VBP'), ('—', 'NNP'), ('nameless', 'NN'), (',', ','), ('unreasoning', 'JJ'), (',', ','), ('unjustified', 'JJ'), ('terror', 'NN'), ('paralyzes', 'VBZ'), ('needed', 'VBN'), ('efforts', 'NNS'), ('convert', 'VBP'), ('retreat', 'NN'), ('advance', 'NN'), ('.', '.')]\n",
            "[('In', 'IN'), ('every', 'DT'), ('dark', 'JJ'), ('hour', 'NN'), ('national', 'JJ'), ('life', 'NN'), ('leadership', 'NN'), ('frankness', 'JJ'), ('vigor', 'NN'), ('met', 'VBD'), ('understanding', 'JJ'), ('support', 'NN'), ('people', 'NNS'), ('essential', 'JJ'), ('victory', 'NN'), ('.', '.')]\n",
            "[('And', 'CC'), ('I', 'PRP'), ('convinced', 'VBD'), ('give', 'JJ'), ('support', 'NN'), ('leadership', 'NN'), ('critical', 'JJ'), ('days', 'NNS'), ('.', '.')]\n",
            "[('More', 'RBR'), ('important', 'JJ'), (',', ','), ('host', 'NN'), ('unemployed', 'JJ'), ('citizens', 'NNS'), ('face', 'VBP'), ('grim', 'JJ'), ('problem', 'NN'), ('existence', 'NN'), (',', ','), ('equally', 'RB'), ('great', 'JJ'), ('number', 'NN'), ('toil', 'NN'), ('little', 'JJ'), ('return', 'NN'), ('.', '.')]\n",
            "[('Only', 'RB'), ('foolish', 'JJ'), ('optimist', 'NN'), ('deny', 'NN'), ('dark', 'NN'), ('realities', 'NNS'), ('moment', 'NN'), ('.', '.')]\n",
            "[('Our', 'PRP$'), ('greatest', 'JJS'), ('primary', 'JJ'), ('task', 'NN'), ('put', 'VBD'), ('people', 'NNS'), ('work', 'NN'), ('.', '.')]\n",
            "[('This', 'DT'), ('unsolvable', 'JJ'), ('problem', 'NN'), ('face', 'NN'), ('wisely', 'RB'), ('courageously', 'RB'), ('.', '.')]\n",
            "[('There', 'EX'), ('many', 'JJ'), ('ways', 'NNS'), ('helped', 'VBD'), (',', ','), ('never', 'RB'), ('helped', 'VBD'), ('merely', 'RB'), ('talking', 'VBG'), ('.', '.')]\n",
            "[('We', 'PRP'), ('must', 'MD'), ('act', 'VB'), ('act', 'JJ'), ('quickly', 'RB'), ('.', '.')]\n",
            "[('I', 'PRP'), ('prepared', 'VBD'), ('constitutional', 'JJ'), ('duty', 'NN'), ('recommend', 'NN'), ('measures', 'VBZ'), ('stricken', 'JJ'), ('Nation', 'NNP'), ('midst', 'NN'), ('stricken', 'VBD'), ('world', 'NN'), ('may', 'MD'), ('require', 'VB'), ('.', '.')]\n",
            "[('These', 'DT'), ('measures', 'NNS'), (',', ','), ('measures', 'NNS'), ('Congress', 'NNP'), ('may', 'MD'), ('build', 'VB'), ('experience', 'NN'), ('wisdom', 'NN'), (',', ','), ('I', 'PRP'), ('shall', 'MD'), ('seek', 'VB'), (',', ','), ('within', 'IN'), ('constitutional', 'JJ'), ('authority', 'NN'), (',', ','), ('bring', 'VBG'), ('speedy', 'JJ'), ('adoption', 'NN'), ('.', '.')]\n",
            "[('But', 'CC'), ('event', 'NN'), ('Congress', 'NNP'), ('shall', 'MD'), ('fail', 'VB'), ('take', 'VB'), ('one', 'CD'), ('two', 'CD'), ('courses', 'NNS'), (',', ','), ('event', 'NN'), ('national', 'JJ'), ('emergency', 'NN'), ('still', 'RB'), ('critical', 'JJ'), (',', ','), ('I', 'PRP'), ('shall', 'MD'), ('evade', 'VB'), ('clear', 'JJ'), ('course', 'NN'), ('duty', 'NN'), ('confront', 'NN'), ('.', '.')]\n",
            "[('I', 'PRP'), ('shall', 'MD'), ('ask', 'VB'), ('Congress', 'NNP'), ('one', 'CD'), ('remaining', 'VBG'), ('instrument', 'JJ'), ('meet', 'NN'), ('crisis', 'NN'), ('—', 'NNP'), ('broad', 'JJ'), ('Executive', 'NNP'), ('power', 'NN'), ('wage', 'NN'), ('war', 'NN'), ('emergency', 'NN'), (',', ','), ('great', 'JJ'), ('power', 'NN'), ('would', 'MD'), ('given', 'VBN'), ('fact', 'NN'), ('invaded', 'VBN'), ('foreign', 'JJ'), ('foe', 'NN'), ('.', '.')]\n"
          ]
        }
      ]
    },
    {
      "cell_type": "code",
      "source": [
        "for i in \"The Eiffel Tower is a beautiful monument\".split():\n",
        "  print(nltk.pos_tag([i]))"
      ],
      "metadata": {
        "colab": {
          "base_uri": "https://localhost:8080/"
        },
        "id": "k72i9R3bCVPE",
        "outputId": "fd925d6c-3aa6-4811-bad8-6eb08ab3c983"
      },
      "execution_count": 22,
      "outputs": [
        {
          "output_type": "stream",
          "name": "stdout",
          "text": [
            "[('The', 'DT')]\n",
            "[('Eiffel', 'NN')]\n",
            "[('Tower', 'NN')]\n",
            "[('is', 'VBZ')]\n",
            "[('a', 'DT')]\n",
            "[('beautiful', 'NN')]\n",
            "[('monument', 'NN')]\n"
          ]
        }
      ]
    }
  ]
}